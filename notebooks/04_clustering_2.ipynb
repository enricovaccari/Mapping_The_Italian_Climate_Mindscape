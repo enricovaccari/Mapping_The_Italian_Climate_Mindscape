{
 "cells": [
  {
   "cell_type": "markdown",
   "id": "eb876ead",
   "metadata": {},
   "source": [
    "<div class=\"alert alert-block alert-success\">\n",
    "<b>NOTEBOOK 1 - Data Structural Cleanup\n",
    "</div>"
   ]
  },
  {
   "cell_type": "markdown",
   "id": "b1ebb1ea",
   "metadata": {},
   "source": [
    "---\n",
    "# 1 - IMPORTS"
   ]
  },
  {
   "cell_type": "markdown",
   "id": "27f11192",
   "metadata": {},
   "source": [
    "### 1.1 - SETUP PROJECT"
   ]
  },
  {
   "cell_type": "markdown",
   "id": "3bdba990",
   "metadata": {},
   "source": [
    "Make sure to check `README.md` and `requirements.txt` before running any notebooks. "
   ]
  },
  {
   "cell_type": "code",
   "execution_count": 3,
   "id": "e58a490c",
   "metadata": {},
   "outputs": [],
   "source": [
    "# Import modules\n",
    "import sys\n",
    "import importlib\n",
    "import pandas as pd\n",
    "from pathlib import Path"
   ]
  },
  {
   "cell_type": "markdown",
   "id": "cbb28cfe",
   "metadata": {},
   "source": [
    "### 1.2 - DEFINE PATHS"
   ]
  },
  {
   "cell_type": "code",
   "execution_count": null,
   "id": "a75e0bb1",
   "metadata": {},
   "outputs": [],
   "source": [
    "# Paths\n",
    "PROJECT_PATH = Path.cwd().resolve().parent\n",
    "DATA_PATH = PROJECT_PATH / \"data\"\n",
    "RAW_DATA_PATH = DATA_PATH / \"raw\"\n",
    "META_PATH = DATA_PATH / \"meta\"\n",
    "INTERIM_DATA_PATH = DATA_PATH / \"interim\"\n",
    "SRC_PATH = PROJECT_PATH / \"src\"\n",
    "UTILS_PATH = SRC_PATH / \"utilities\"\n",
    "PROCESSED_PATH = DATA_PATH / \"processed\"\n",
    "\n",
    "# Add src to sys.path (for package-style imports)\n",
    "if str(SRC_PATH) not in sys.path:\n",
    "    sys.path.append(str(SRC_PATH))\n",
    "\n",
    "# Add utilities folder to sys.path (for direct import utils)\n",
    "if str(UTILS_PATH) not in sys.path:\n",
    "    sys.path.append(str(UTILS_PATH))\n",
    "\n",
    "\n",
    "# Import with reload\n",
    "try:\n",
    "    import utilities.utils as utils\n",
    "except ModuleNotFoundError:\n",
    "    import utils\n",
    "\n",
    "reimport = importlib.reload(utils)"
   ]
  },
  {
   "cell_type": "markdown",
   "id": "19a2962a",
   "metadata": {},
   "source": [
    "### 1.3 - LOAD DATASET"
   ]
  },
  {
   "cell_type": "code",
   "execution_count": 5,
   "id": "81bb82ef",
   "metadata": {},
   "outputs": [
    {
     "ename": "NameError",
     "evalue": "name 'PROCESSED_DATA_PATH' is not defined",
     "output_type": "error",
     "traceback": [
      "\u001b[1;31m---------------------------------------------------------------------------\u001b[0m",
      "\u001b[1;31mNameError\u001b[0m                                 Traceback (most recent call last)",
      "Cell \u001b[1;32mIn[5], line 4\u001b[0m\n\u001b[0;32m      1\u001b[0m \u001b[38;5;66;03m# Load Data\u001b[39;00m\n\u001b[0;32m      2\u001b[0m \n\u001b[0;32m      3\u001b[0m \u001b[38;5;66;03m# Clustering\u001b[39;00m\n\u001b[1;32m----> 4\u001b[0m file_path_c \u001b[38;5;241m=\u001b[39m \u001b[43mPROCESSED_DATA_PATH\u001b[49m \u001b[38;5;241m/\u001b[39m \u001b[38;5;124m\"\u001b[39m\u001b[38;5;124m01_climate_dataset_forClustering_scaled.xlsx\u001b[39m\u001b[38;5;124m\"\u001b[39m\n\u001b[0;32m      5\u001b[0m cluster_df \u001b[38;5;241m=\u001b[39m pd\u001b[38;5;241m.\u001b[39mread_excel(file_path_c, sheet_name\u001b[38;5;241m=\u001b[39m\u001b[38;5;28;01mNone\u001b[39;00m)[\u001b[38;5;124m\"\u001b[39m\u001b[38;5;124mSheet1\u001b[39m\u001b[38;5;124m\"\u001b[39m]\n\u001b[0;32m      7\u001b[0m \u001b[38;5;66;03m# Descriptive stats\u001b[39;00m\n",
      "\u001b[1;31mNameError\u001b[0m: name 'PROCESSED_DATA_PATH' is not defined"
     ]
    }
   ],
   "source": [
    "# Load Data\n",
    "\n",
    "# Clustering\n",
    "file_path_c = PROCESSED_DATA_PATH / \"01_climate_dataset_forClustering_scaled.xlsx\"\n",
    "cluster_df = pd.read_excel(file_path_c, sheet_name=None)[\"Sheet1\"]\n",
    "\n",
    "# Descriptive stats\n",
    "file_path_d = PROCESSED_DATA_PATH / \"01_climate_dataset_descriptive_features.xlsx\"\n",
    "desc_df = pd.read_excel(file_path_d, sheet_name=None)[\"Sheet1\"]\n",
    "\n",
    "# Display both\n",
    "display(cluster_df.head())\n",
    "display(desc_df.head()) "
   ]
  },
  {
   "cell_type": "markdown",
   "id": "7d99712f",
   "metadata": {},
   "source": [
    "---\n",
    "# 2 - CLUSTERING"
   ]
  },
  {
   "cell_type": "markdown",
   "id": "f073a369",
   "metadata": {},
   "source": [
    "### 2.1 - SCALING CLUSTER FEATURES"
   ]
  }
 ],
 "metadata": {
  "kernelspec": {
   "display_name": "Python 3",
   "language": "python",
   "name": "python3"
  },
  "language_info": {
   "codemirror_mode": {
    "name": "ipython",
    "version": 3
   },
   "file_extension": ".py",
   "mimetype": "text/x-python",
   "name": "python",
   "nbconvert_exporter": "python",
   "pygments_lexer": "ipython3",
   "version": "3.10.2"
  }
 },
 "nbformat": 4,
 "nbformat_minor": 5
}
